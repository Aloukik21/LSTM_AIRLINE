{
  "nbformat": 4,
  "nbformat_minor": 0,
  "metadata": {
    "colab": {
      "name": "LSTM_AIRLINE_DATASET.ipynb",
      "provenance": [],
      "collapsed_sections": []
    },
    "kernelspec": {
      "name": "python3",
      "display_name": "Python 3"
    }
  },
  "cells": [
    {
      "cell_type": "code",
      "metadata": {
        "id": "LP1_l4F9oV3r",
        "colab_type": "code",
        "colab": {}
      },
      "source": [
        ""
      ],
      "execution_count": 0,
      "outputs": []
    },
    {
      "cell_type": "markdown",
      "metadata": {
        "id": "yJ83pZxlfcxE",
        "colab_type": "text"
      },
      "source": [
        "##**DEEP LEARNING ASSIGNMENT 3**\n",
        "\n",
        "##**LSTM AIRLINE DATASET (PROBLEM 3)**\n",
        "\n",
        "##**NAME: ALOUKIK ADITYA**\n",
        "\n",
        "##**STUDENT ID: 1115290**\n",
        "\n"
      ]
    },
    {
      "cell_type": "markdown",
      "metadata": {
        "id": "13QNHmAFf7w4",
        "colab_type": "text"
      },
      "source": [
        "##**IMPORTING ALL THE LIBRARIES**"
      ]
    },
    {
      "cell_type": "code",
      "metadata": {
        "id": "VaOsAaVQfZ_v",
        "colab_type": "code",
        "outputId": "06dfc22d-5782-4f65-d408-05f4ae9feb26",
        "colab": {
          "base_uri": "https://localhost:8080/",
          "height": 70
        }
      },
      "source": [
        "import pandas as pd\n",
        "import numpy as np\n",
        "import matplotlib.pyplot as plt\n",
        "import math\n",
        "from sklearn.preprocessing import OneHotEncoder\n",
        "from sklearn.metrics import accuracy_score\n",
        "import numpy as np\n",
        "import pandas as pd\n",
        "import matplotlib.pyplot as plt\n",
        "%matplotlib inline\n",
        "from statsmodels.tools.eval_measures import rmse\n",
        "from keras.preprocessing.sequence import TimeseriesGenerator\n",
        "from tensorflow.keras.layers import Dense\n",
        "from tensorflow.keras.layers import LSTM\n",
        "from keras.layers import Dropout\n",
        "import warnings\n",
        "warnings.filterwarnings(\"ignore\")\n",
        "import time\n",
        "from sklearn.metrics import mean_squared_error\n",
        "import statistics\n",
        "from sklearn.model_selection import train_test_split\n",
        "from sklearn.preprocessing import LabelEncoder\n",
        "import numpy as np\n",
        "import matplotlib.pyplot as plt\n",
        "import pandas as pd\n",
        "from tensorflow.keras.models import Sequential\n",
        "from sklearn.preprocessing import MinMaxScaler"
      ],
      "execution_count": 1,
      "outputs": [
        {
          "output_type": "stream",
          "text": [
            "/usr/local/lib/python3.6/dist-packages/statsmodels/tools/_testing.py:19: FutureWarning: pandas.util.testing is deprecated. Use the functions in the public API at pandas.testing instead.\n",
            "  import pandas.util.testing as tm\n",
            "Using TensorFlow backend.\n"
          ],
          "name": "stderr"
        }
      ]
    },
    {
      "cell_type": "code",
      "metadata": {
        "id": "r3vzOXy8rrN_",
        "colab_type": "code",
        "outputId": "f1fdf70e-d00a-4e75-b8fd-3f2fdb4746a1",
        "colab": {
          "base_uri": "https://localhost:8080/",
          "height": 35
        }
      },
      "source": [
        "from google.colab import drive\n",
        "drive.mount('/content/drive')"
      ],
      "execution_count": 2,
      "outputs": [
        {
          "output_type": "stream",
          "text": [
            "Drive already mounted at /content/drive; to attempt to forcibly remount, call drive.mount(\"/content/drive\", force_remount=True).\n"
          ],
          "name": "stdout"
        }
      ]
    },
    {
      "cell_type": "markdown",
      "metadata": {
        "id": "yrFK7eaJswIq",
        "colab_type": "text"
      },
      "source": [
        "# **READING DATASET**"
      ]
    },
    {
      "cell_type": "code",
      "metadata": {
        "id": "W_FektIjola6",
        "colab_type": "code",
        "colab": {}
      },
      "source": [
        "#data = pd.read_csv('drive/My Drive/Airlines.csv')# reading data here"
      ],
      "execution_count": 0,
      "outputs": []
    },
    {
      "cell_type": "code",
      "metadata": {
        "id": "Uzs3Udw5HK2s",
        "colab_type": "code",
        "colab": {}
      },
      "source": [
        "data = pd.read_csv('Airlines.csv')# reading data here"
      ],
      "execution_count": 0,
      "outputs": []
    },
    {
      "cell_type": "code",
      "metadata": {
        "id": "nZYDgUsPopI0",
        "colab_type": "code",
        "outputId": "1c28abb6-8f75-46b4-8f4d-55576b23ca98",
        "colab": {
          "base_uri": "https://localhost:8080/",
          "height": 266
        }
      },
      "source": [
        "print(data)#--------------------------------CHECKING DATA"
      ],
      "execution_count": 4,
      "outputs": [
        {
          "output_type": "stream",
          "text": [
            "       Month  Passengers\n",
            "0    1949-01         112\n",
            "1    1949-02         118\n",
            "2    1949-03         132\n",
            "3    1949-04         129\n",
            "4    1949-05         121\n",
            "..       ...         ...\n",
            "139  1960-08         606\n",
            "140  1960-09         508\n",
            "141  1960-10         461\n",
            "142  1960-11         390\n",
            "143  1960-12         432\n",
            "\n",
            "[144 rows x 2 columns]\n"
          ],
          "name": "stdout"
        }
      ]
    },
    {
      "cell_type": "markdown",
      "metadata": {
        "id": "YpMYt0YiIKFd",
        "colab_type": "text"
      },
      "source": [
        "# New Section"
      ]
    },
    {
      "cell_type": "code",
      "metadata": {
        "id": "zpYFQynOwhcl",
        "colab_type": "code",
        "colab": {}
      },
      "source": [
        ""
      ],
      "execution_count": 0,
      "outputs": []
    },
    {
      "cell_type": "code",
      "metadata": {
        "id": "21ZlBWr1wqsc",
        "colab_type": "code",
        "outputId": "285e0d13-58c2-49a1-8764-3fb1a5082773",
        "colab": {
          "base_uri": "https://localhost:8080/",
          "height": 399
        }
      },
      "source": [
        "data#---------------DATA IS IN PANDAS DATAFRAME"
      ],
      "execution_count": 5,
      "outputs": [
        {
          "output_type": "execute_result",
          "data": {
            "text/html": [
              "<div>\n",
              "<style scoped>\n",
              "    .dataframe tbody tr th:only-of-type {\n",
              "        vertical-align: middle;\n",
              "    }\n",
              "\n",
              "    .dataframe tbody tr th {\n",
              "        vertical-align: top;\n",
              "    }\n",
              "\n",
              "    .dataframe thead th {\n",
              "        text-align: right;\n",
              "    }\n",
              "</style>\n",
              "<table border=\"1\" class=\"dataframe\">\n",
              "  <thead>\n",
              "    <tr style=\"text-align: right;\">\n",
              "      <th></th>\n",
              "      <th>Month</th>\n",
              "      <th>Passengers</th>\n",
              "    </tr>\n",
              "  </thead>\n",
              "  <tbody>\n",
              "    <tr>\n",
              "      <th>0</th>\n",
              "      <td>1949-01</td>\n",
              "      <td>112</td>\n",
              "    </tr>\n",
              "    <tr>\n",
              "      <th>1</th>\n",
              "      <td>1949-02</td>\n",
              "      <td>118</td>\n",
              "    </tr>\n",
              "    <tr>\n",
              "      <th>2</th>\n",
              "      <td>1949-03</td>\n",
              "      <td>132</td>\n",
              "    </tr>\n",
              "    <tr>\n",
              "      <th>3</th>\n",
              "      <td>1949-04</td>\n",
              "      <td>129</td>\n",
              "    </tr>\n",
              "    <tr>\n",
              "      <th>4</th>\n",
              "      <td>1949-05</td>\n",
              "      <td>121</td>\n",
              "    </tr>\n",
              "    <tr>\n",
              "      <th>...</th>\n",
              "      <td>...</td>\n",
              "      <td>...</td>\n",
              "    </tr>\n",
              "    <tr>\n",
              "      <th>139</th>\n",
              "      <td>1960-08</td>\n",
              "      <td>606</td>\n",
              "    </tr>\n",
              "    <tr>\n",
              "      <th>140</th>\n",
              "      <td>1960-09</td>\n",
              "      <td>508</td>\n",
              "    </tr>\n",
              "    <tr>\n",
              "      <th>141</th>\n",
              "      <td>1960-10</td>\n",
              "      <td>461</td>\n",
              "    </tr>\n",
              "    <tr>\n",
              "      <th>142</th>\n",
              "      <td>1960-11</td>\n",
              "      <td>390</td>\n",
              "    </tr>\n",
              "    <tr>\n",
              "      <th>143</th>\n",
              "      <td>1960-12</td>\n",
              "      <td>432</td>\n",
              "    </tr>\n",
              "  </tbody>\n",
              "</table>\n",
              "<p>144 rows × 2 columns</p>\n",
              "</div>"
            ],
            "text/plain": [
              "       Month  Passengers\n",
              "0    1949-01         112\n",
              "1    1949-02         118\n",
              "2    1949-03         132\n",
              "3    1949-04         129\n",
              "4    1949-05         121\n",
              "..       ...         ...\n",
              "139  1960-08         606\n",
              "140  1960-09         508\n",
              "141  1960-10         461\n",
              "142  1960-11         390\n",
              "143  1960-12         432\n",
              "\n",
              "[144 rows x 2 columns]"
            ]
          },
          "metadata": {
            "tags": []
          },
          "execution_count": 5
        }
      ]
    },
    {
      "cell_type": "code",
      "metadata": {
        "id": "ZCrM8ggctSK5",
        "colab_type": "code",
        "colab": {}
      },
      "source": [
        "\n",
        "X = data.Passengers#----------------GETTING ONLY PASSENGER DATA HERE STORING IT IN X"
      ],
      "execution_count": 0,
      "outputs": []
    },
    {
      "cell_type": "code",
      "metadata": {
        "id": "u-6ucHhJp8qG",
        "colab_type": "code",
        "colab": {}
      },
      "source": [
        "X = np.array(X).reshape(-1,1)#-------------------RESHAPING X"
      ],
      "execution_count": 0,
      "outputs": []
    },
    {
      "cell_type": "code",
      "metadata": {
        "id": "tSWGFr9SqIIE",
        "colab_type": "code",
        "outputId": "6f14b5e3-146e-4b12-d2a6-4626e962d958",
        "colab": {
          "base_uri": "https://localhost:8080/",
          "height": 283
        }
      },
      "source": [
        "plt.plot(X)#------------------PLOTTING THE VALUES ON GRAPH"
      ],
      "execution_count": 8,
      "outputs": [
        {
          "output_type": "execute_result",
          "data": {
            "text/plain": [
              "[<matplotlib.lines.Line2D at 0x7f05ace72748>]"
            ]
          },
          "metadata": {
            "tags": []
          },
          "execution_count": 8
        },
        {
          "output_type": "display_data",
          "data": {
            "image/png": "[encoded data removed]",
            "text/plain": [
              "<Figure size 432x288 with 1 Axes>"
            ]
          },
          "metadata": {
            "tags": []
          }
        }
      ]
    },
    {
      "cell_type": "code",
      "metadata": {
        "id": "ZWQNvnqYqtIv",
        "colab_type": "code",
        "colab": {}
      },
      "source": [
        ""
      ],
      "execution_count": 0,
      "outputs": []
    },
    {
      "cell_type": "code",
      "metadata": {
        "id": "pojCYGR5qaQB",
        "colab_type": "code",
        "colab": {}
      },
      "source": [
        "Data_scale = MinMaxScaler()#--------------------USING MINMAX SCALER HERE TO GET VALUES BETWEEN 0 AND 1\n",
        "X = Data_scale.fit_transform(X)"
      ],
      "execution_count": 0,
      "outputs": []
    },
    {
      "cell_type": "code",
      "metadata": {
        "id": "BQiSzmkHq8sn",
        "colab_type": "code",
        "colab": {}
      },
      "source": [
        "Data = X"
      ],
      "execution_count": 0,
      "outputs": []
    },
    {
      "cell_type": "code",
      "metadata": {
        "id": "7MEGuUDwtBZV",
        "colab_type": "code",
        "colab": {}
      },
      "source": [
        "Train, Test = train_test_split(Data,test_size=0.7,shuffle=False)#-----------------SPLITTING DATA WITHOUT SHUFFLE\n"
      ],
      "execution_count": 0,
      "outputs": []
    },
    {
      "cell_type": "code",
      "metadata": {
        "id": "t3V-HYv4BdOa",
        "colab_type": "code",
        "colab": {}
      },
      "source": [
        "train_size = Train.size#------------------------DEFINING SIZE AND OF THE DATASET\n",
        "test_size = Test.size"
      ],
      "execution_count": 0,
      "outputs": []
    },
    {
      "cell_type": "code",
      "metadata": {
        "id": "92PEWfcytLsy",
        "colab_type": "code",
        "colab": {}
      },
      "source": [
        "X_train = Train[0:train_size-1]#--------------------------SETTING UP TRAINING FEATURES AND LABELS\n",
        "Y_train = Train[1:train_size]"
      ],
      "execution_count": 0,
      "outputs": []
    },
    {
      "cell_type": "code",
      "metadata": {
        "id": "sVFL5tVntY3Q",
        "colab_type": "code",
        "colab": {}
      },
      "source": [
        "X_test = Test[0:test_size-1]#--------------------SETTING UP TESTING FEATURES AND LABELS\n",
        "Y_test = Test[1:test_size]"
      ],
      "execution_count": 0,
      "outputs": []
    },
    {
      "cell_type": "code",
      "metadata": {
        "id": "1loPnHD6vLQq",
        "colab_type": "code",
        "outputId": "f097c19f-7586-479d-e449-5678f4a6d6a1",
        "colab": {
          "base_uri": "https://localhost:8080/",
          "height": 764
        }
      },
      "source": [
        "Y_train"
      ],
      "execution_count": 15,
      "outputs": [
        {
          "output_type": "execute_result",
          "data": {
            "text/plain": [
              "array([[0.02702703],\n",
              "       [0.05405405],\n",
              "       [0.04826255],\n",
              "       [0.03281853],\n",
              "       [0.05984556],\n",
              "       [0.08494208],\n",
              "       [0.08494208],\n",
              "       [0.06177606],\n",
              "       [0.02895753],\n",
              "       [0.        ],\n",
              "       [0.02702703],\n",
              "       [0.02123552],\n",
              "       [0.04247104],\n",
              "       [0.07142857],\n",
              "       [0.05984556],\n",
              "       [0.04054054],\n",
              "       [0.08687259],\n",
              "       [0.12741313],\n",
              "       [0.12741313],\n",
              "       [0.1042471 ],\n",
              "       [0.05598456],\n",
              "       [0.01930502],\n",
              "       [0.06949807],\n",
              "       [0.07915058],\n",
              "       [0.08880309],\n",
              "       [0.14285714],\n",
              "       [0.11389961],\n",
              "       [0.13127413],\n",
              "       [0.14285714],\n",
              "       [0.18339768],\n",
              "       [0.18339768],\n",
              "       [0.15444015],\n",
              "       [0.11196911],\n",
              "       [0.08108108],\n",
              "       [0.11969112],\n",
              "       [0.12934363],\n",
              "       [0.14671815],\n",
              "       [0.17181467],\n",
              "       [0.14864865],\n",
              "       [0.15250965],\n",
              "       [0.22007722],\n",
              "       [0.24324324]])"
            ]
          },
          "metadata": {
            "tags": []
          },
          "execution_count": 15
        }
      ]
    },
    {
      "cell_type": "code",
      "metadata": {
        "id": "XXbnV9hTvNDf",
        "colab_type": "code",
        "outputId": "f591db44-79ef-4bc2-dc6a-adb0ce5ebd53",
        "colab": {
          "base_uri": "https://localhost:8080/",
          "height": 764
        }
      },
      "source": [
        "X_train"
      ],
      "execution_count": 16,
      "outputs": [
        {
          "output_type": "execute_result",
          "data": {
            "text/plain": [
              "array([[0.01544402],\n",
              "       [0.02702703],\n",
              "       [0.05405405],\n",
              "       [0.04826255],\n",
              "       [0.03281853],\n",
              "       [0.05984556],\n",
              "       [0.08494208],\n",
              "       [0.08494208],\n",
              "       [0.06177606],\n",
              "       [0.02895753],\n",
              "       [0.        ],\n",
              "       [0.02702703],\n",
              "       [0.02123552],\n",
              "       [0.04247104],\n",
              "       [0.07142857],\n",
              "       [0.05984556],\n",
              "       [0.04054054],\n",
              "       [0.08687259],\n",
              "       [0.12741313],\n",
              "       [0.12741313],\n",
              "       [0.1042471 ],\n",
              "       [0.05598456],\n",
              "       [0.01930502],\n",
              "       [0.06949807],\n",
              "       [0.07915058],\n",
              "       [0.08880309],\n",
              "       [0.14285714],\n",
              "       [0.11389961],\n",
              "       [0.13127413],\n",
              "       [0.14285714],\n",
              "       [0.18339768],\n",
              "       [0.18339768],\n",
              "       [0.15444015],\n",
              "       [0.11196911],\n",
              "       [0.08108108],\n",
              "       [0.11969112],\n",
              "       [0.12934363],\n",
              "       [0.14671815],\n",
              "       [0.17181467],\n",
              "       [0.14864865],\n",
              "       [0.15250965],\n",
              "       [0.22007722]])"
            ]
          },
          "metadata": {
            "tags": []
          },
          "execution_count": 16
        }
      ]
    },
    {
      "cell_type": "code",
      "metadata": {
        "id": "LCMi8cJGvPD-",
        "colab_type": "code",
        "colab": {}
      },
      "source": [
        "X_train = X_train.reshape(X_train.shape[0],X_train.shape[1], 1)#---------------------RESHAPING THE DIMESIONS TO FIT INTO LSTM\n",
        "X_test = X_test.reshape(X_test.shape[0],X_test.shape[1], 1)"
      ],
      "execution_count": 0,
      "outputs": []
    },
    {
      "cell_type": "markdown",
      "metadata": {
        "id": "iLk8RVzVg6jT",
        "colab_type": "text"
      },
      "source": [
        "##**BUILDING LSTM MODEL BELOW**"
      ]
    },
    {
      "cell_type": "code",
      "metadata": {
        "id": "ODCdOhA1CmRe",
        "colab_type": "code",
        "colab": {}
      },
      "source": [
        "model = Sequential()\n",
        "model.add(LSTM(5, input_shape = (1, 1)))\n",
        "model.add(Dense(1))\n",
        "model.compile(loss = 'mean_squared_error', optimizer = 'adam')"
      ],
      "execution_count": 0,
      "outputs": []
    },
    {
      "cell_type": "code",
      "metadata": {
        "id": "uClWzXUXCntQ",
        "colab_type": "code",
        "outputId": "52587ecc-7d07-435d-f6a9-ea1b1b21d3b4",
        "colab": {
          "base_uri": "https://localhost:8080/",
          "height": 230
        }
      },
      "source": [
        "model.summary()#-----------------------PARAMETERS OF LSTM"
      ],
      "execution_count": 19,
      "outputs": [
        {
          "output_type": "stream",
          "text": [
            "Model: \"sequential\"\n",
            "_________________________________________________________________\n",
            "Layer (type)                 Output Shape              Param #   \n",
            "=================================================================\n",
            "lstm (LSTM)                  (None, 5)                 140       \n",
            "_________________________________________________________________\n",
            "dense (Dense)                (None, 1)                 6         \n",
            "=================================================================\n",
            "Total params: 146\n",
            "Trainable params: 146\n",
            "Non-trainable params: 0\n",
            "_________________________________________________________________\n"
          ],
          "name": "stdout"
        }
      ]
    },
    {
      "cell_type": "code",
      "metadata": {
        "id": "vbN5QCdMDbqQ",
        "colab_type": "code",
        "outputId": "3c69c2e1-719d-4149-e0be-5498b31f96ee",
        "colab": {
          "base_uri": "https://localhost:8080/",
          "height": 1000
        }
      },
      "source": [
        "model.fit(X_train, Y_train, epochs=50, batch_size=1)#----------------------------TRAINING STARTS  HERE"
      ],
      "execution_count": 20,
      "outputs": [
        {
          "output_type": "stream",
          "text": [
            "Epoch 1/50\n",
            "42/42 [==============================] - 0s 2ms/step - loss: 0.0073\n",
            "Epoch 2/50\n",
            "42/42 [==============================] - 0s 2ms/step - loss: 0.0034\n",
            "Epoch 3/50\n",
            "42/42 [==============================] - 0s 2ms/step - loss: 0.0028\n",
            "Epoch 4/50\n",
            "42/42 [==============================] - 0s 2ms/step - loss: 0.0027\n",
            "Epoch 5/50\n",
            "42/42 [==============================] - 0s 2ms/step - loss: 0.0026\n",
            "Epoch 6/50\n",
            "42/42 [==============================] - 0s 2ms/step - loss: 0.0025\n",
            "Epoch 7/50\n",
            "42/42 [==============================] - 0s 2ms/step - loss: 0.0025\n",
            "Epoch 8/50\n",
            "42/42 [==============================] - 0s 2ms/step - loss: 0.0024\n",
            "Epoch 9/50\n",
            "42/42 [==============================] - 0s 2ms/step - loss: 0.0024\n",
            "Epoch 10/50\n",
            "42/42 [==============================] - 0s 2ms/step - loss: 0.0024\n",
            "Epoch 11/50\n",
            "42/42 [==============================] - 0s 2ms/step - loss: 0.0023\n",
            "Epoch 12/50\n",
            "42/42 [==============================] - 0s 2ms/step - loss: 0.0022\n",
            "Epoch 13/50\n",
            "42/42 [==============================] - 0s 2ms/step - loss: 0.0021\n",
            "Epoch 14/50\n",
            "42/42 [==============================] - 0s 2ms/step - loss: 0.0021\n",
            "Epoch 15/50\n",
            "42/42 [==============================] - 0s 2ms/step - loss: 0.0021\n",
            "Epoch 16/50\n",
            "42/42 [==============================] - 0s 2ms/step - loss: 0.0020\n",
            "Epoch 17/50\n",
            "42/42 [==============================] - 0s 2ms/step - loss: 0.0020\n",
            "Epoch 18/50\n",
            "42/42 [==============================] - 0s 2ms/step - loss: 0.0019\n",
            "Epoch 19/50\n",
            "42/42 [==============================] - 0s 2ms/step - loss: 0.0019\n",
            "Epoch 20/50\n",
            "42/42 [==============================] - 0s 2ms/step - loss: 0.0017\n",
            "Epoch 21/50\n",
            "42/42 [==============================] - 0s 2ms/step - loss: 0.0017\n",
            "Epoch 22/50\n",
            "42/42 [==============================] - 0s 2ms/step - loss: 0.0016\n",
            "Epoch 23/50\n",
            "42/42 [==============================] - 0s 2ms/step - loss: 0.0016\n",
            "Epoch 24/50\n",
            "42/42 [==============================] - 0s 2ms/step - loss: 0.0015\n",
            "Epoch 25/50\n",
            "42/42 [==============================] - 0s 2ms/step - loss: 0.0015\n",
            "Epoch 26/50\n",
            "42/42 [==============================] - 0s 2ms/step - loss: 0.0014\n",
            "Epoch 27/50\n",
            "42/42 [==============================] - 0s 2ms/step - loss: 0.0014\n",
            "Epoch 28/50\n",
            "42/42 [==============================] - 0s 2ms/step - loss: 0.0013\n",
            "Epoch 29/50\n",
            "42/42 [==============================] - 0s 2ms/step - loss: 0.0013\n",
            "Epoch 30/50\n",
            "42/42 [==============================] - 0s 2ms/step - loss: 0.0013\n",
            "Epoch 31/50\n",
            "42/42 [==============================] - 0s 2ms/step - loss: 0.0012\n",
            "Epoch 32/50\n",
            "42/42 [==============================] - 0s 2ms/step - loss: 0.0012\n",
            "Epoch 33/50\n",
            "42/42 [==============================] - 0s 2ms/step - loss: 0.0012\n",
            "Epoch 34/50\n",
            "42/42 [==============================] - 0s 2ms/step - loss: 0.0011\n",
            "Epoch 35/50\n",
            "42/42 [==============================] - 0s 2ms/step - loss: 0.0011\n",
            "Epoch 36/50\n",
            "42/42 [==============================] - 0s 2ms/step - loss: 0.0011\n",
            "Epoch 37/50\n",
            "42/42 [==============================] - 0s 2ms/step - loss: 0.0010\n",
            "Epoch 38/50\n",
            "42/42 [==============================] - 0s 2ms/step - loss: 0.0010\n",
            "Epoch 39/50\n",
            "42/42 [==============================] - 0s 2ms/step - loss: 0.0010\n",
            "Epoch 40/50\n",
            "42/42 [==============================] - 0s 2ms/step - loss: 9.6490e-04\n",
            "Epoch 41/50\n",
            "42/42 [==============================] - 0s 2ms/step - loss: 9.5334e-04\n",
            "Epoch 42/50\n",
            "42/42 [==============================] - 0s 2ms/step - loss: 9.2907e-04\n",
            "Epoch 43/50\n",
            "42/42 [==============================] - 0s 2ms/step - loss: 9.1923e-04\n",
            "Epoch 44/50\n",
            "42/42 [==============================] - 0s 2ms/step - loss: 9.1599e-04\n",
            "Epoch 45/50\n",
            "42/42 [==============================] - 0s 2ms/step - loss: 8.9395e-04\n",
            "Epoch 46/50\n",
            "42/42 [==============================] - 0s 2ms/step - loss: 8.8569e-04\n",
            "Epoch 47/50\n",
            "42/42 [==============================] - 0s 2ms/step - loss: 8.8273e-04\n",
            "Epoch 48/50\n",
            "42/42 [==============================] - 0s 2ms/step - loss: 8.9683e-04\n",
            "Epoch 49/50\n",
            "42/42 [==============================] - 0s 2ms/step - loss: 8.8650e-04\n",
            "Epoch 50/50\n",
            "42/42 [==============================] - 0s 2ms/step - loss: 8.6327e-04\n"
          ],
          "name": "stdout"
        },
        {
          "output_type": "execute_result",
          "data": {
            "text/plain": [
              "<tensorflow.python.keras.callbacks.History at 0x7f05a655f2b0>"
            ]
          },
          "metadata": {
            "tags": []
          },
          "execution_count": 20
        }
      ]
    },
    {
      "cell_type": "code",
      "metadata": {
        "id": "MGq2phQ2DeDb",
        "colab_type": "code",
        "colab": {}
      },
      "source": [
        "Predicted_Y = model.predict(X_test)#---------------------GETTING PREDICTED VALUE"
      ],
      "execution_count": 0,
      "outputs": []
    },
    {
      "cell_type": "code",
      "metadata": {
        "id": "E5Rb92X4DilF",
        "colab_type": "code",
        "colab": {}
      },
      "source": [
        "Predicted_Y = Data_scale.inverse_transform(Predicted_Y)#------------GETTING INVERSE"
      ],
      "execution_count": 0,
      "outputs": []
    },
    {
      "cell_type": "code",
      "metadata": {
        "id": "xICG2ysSDk4a",
        "colab_type": "code",
        "colab": {}
      },
      "source": [
        "Y_test = np.array(Y_test)\n",
        "Y_test = Y_test.reshape(-1, 1)\n",
        "Y_test = Data_scale.inverse_transform(Y_test)"
      ],
      "execution_count": 0,
      "outputs": []
    },
    {
      "cell_type": "code",
      "metadata": {
        "id": "RXcDX9u-Dy71",
        "colab_type": "code",
        "outputId": "0ed2b30e-d7ab-4843-827c-33b13aecdf67",
        "colab": {
          "base_uri": "https://localhost:8080/",
          "height": 497
        }
      },
      "source": [
        "#--------------------------COMPARING THE ORIGNAL AND PREDICTED MODEL BELOW\n",
        "plt.figure(figsize=(16,8))\n",
        "plt.plot(Y_test, label = 'ACTUAL PASSENGER')\n",
        "plt.plot(Predicted_Y, label = 'PREDICTED PASSENGER')\n",
        "plt.ylabel('NUMBER OF PASSENGERS')\n",
        "plt.xlabel('Time Frame')\n",
        "plt.legend()\n",
        "plt.show()"
      ],
      "execution_count": 24,
      "outputs": [
        {
          "output_type": "display_data",
          "data": {
            "image/png": "[encoded data removed]",
            "text/plain": [
              "<Figure size 1152x576 with 1 Axes>"
            ]
          },
          "metadata": {
            "tags": []
          }
        }
      ]
    },
    {
      "cell_type": "code",
      "metadata": {
        "id": "_u-VPr60D4US",
        "colab_type": "code",
        "outputId": "e17fd376-253b-4223-d479-c517c385dcce",
        "colab": {
          "base_uri": "https://localhost:8080/",
          "height": 35
        }
      },
      "source": [
        "\n",
        "testScore = math.sqrt(mean_squared_error(Y_test, Predicted_Y))#-------------------THE FINAL TESTING RMSE COMES HERE without min max scaling\n",
        "print('Test Score: %.2f RMSE' % (testScore))\n"
      ],
      "execution_count": 25,
      "outputs": [
        {
          "output_type": "stream",
          "text": [
            "Test Score: 43.80 RMSE\n"
          ],
          "name": "stdout"
        }
      ]
    },
    {
      "cell_type": "code",
      "metadata": {
        "id": "1wEMoenuFK1K",
        "colab_type": "code",
        "colab": {
          "base_uri": "https://localhost:8080/",
          "height": 35
        },
        "outputId": "f5d06ad5-6a19-413b-9dd5-673004872e55"
      },
      "source": [
        "Y_test = Data_scale.fit_transform(Y_test)\n",
        "Predicted_Y = Data_scale.fit_transform(Predicted_Y)\n",
        "testScore = math.sqrt(mean_squared_error(Y_test, Predicted_Y))#-------------------THE FINAL TESTING RMSE COMES HERE after min max scaling\n",
        "print('Test Score: %.2f RMSE' % (testScore))\n"
      ],
      "execution_count": 26,
      "outputs": [
        {
          "output_type": "stream",
          "text": [
            "Test Score: 0.09 RMSE\n"
          ],
          "name": "stdout"
        }
      ]
    },
    {
      "cell_type": "code",
      "metadata": {
        "id": "ZZ6oWTonFMUy",
        "colab_type": "code",
        "colab": {}
      },
      "source": [
        ""
      ],
      "execution_count": 0,
      "outputs": []
    }
  ]
}